{
 "cells": [
  {
   "cell_type": "markdown",
   "id": "d4039397",
   "metadata": {},
   "source": [
    "# Constants"
   ]
  },
  {
   "cell_type": "code",
   "execution_count": 3,
   "id": "f0b66160",
   "metadata": {},
   "outputs": [
    {
     "name": "stdout",
     "output_type": "stream",
     "text": [
      "Cleared output successfully.\n"
     ]
    }
   ],
   "source": [
    "import os\n",
    "import requests\n",
    "import zipfile\n",
    "import subprocess as sbp\n",
    "from pathlib import Path\n",
    "from tqdm import tqdm\n",
    "import os\n",
    "import pandas as pd\n",
    "import numpy as np\n",
    "import matplotlib.pyplot as plt\n",
    "import seaborn as sns\n",
    "import gc\n",
    "from dataclasses import dataclass\n",
    "from typing import List, Dict, Optional\n",
    "import json\n",
    "# You can place this in a utilities cell/file.\n",
    "import re\n",
    "from datetime import datetime, timezone\n",
    "from typing import Optional, Iterable\n",
    "import pandas as pd\n",
    "import json\n",
    "import yaml\n",
    "import matplotlib.pyplot as plt\n",
    "import matplotlib.dates as mdates\n",
    "import pandas as pd # Needed for pd.Timedelta\n",
    "from IPython.display import clear_output\n",
    "\n",
    "clear_output(wait=True)\n",
    "print(\"Cleared output successfully.\")\n"
   ]
  },
  {
   "cell_type": "code",
   "execution_count": null,
   "id": "6092bc23",
   "metadata": {},
   "outputs": [],
   "source": [
    "# change it to the path where you wanna put your data\n",
    "BASE_PATH = Path(\"\")\n",
    "# BASE_PATH = Path(\"path_to_your_folder_of_work\")"
   ]
  },
  {
   "cell_type": "code",
   "execution_count": 3,
   "id": "e6862043",
   "metadata": {},
   "outputs": [],
   "source": [
    "datasets = [\"known\", \"composite\", \"generated\"]"
   ]
  },
  {
   "cell_type": "code",
   "execution_count": 4,
   "id": "fe4f196f",
   "metadata": {},
   "outputs": [],
   "source": [
    "def get_json_files(dataset_name):\n",
    "    dataset_path = BASE_PATH / dataset_name\n",
    "    if not dataset_path.exists():\n",
    "        raise FileNotFoundError(f\"Dataset path {dataset_path} does not exist.\")\n",
    "    json_files = list(dataset_path.glob(\"*.json\"))\n",
    "    return json_files"
   ]
  },
  {
   "cell_type": "code",
   "execution_count": 5,
   "id": "00f80578",
   "metadata": {},
   "outputs": [],
   "source": [
    "data_paths = {\n",
    "    name: get_json_files(name)\n",
    "    for name in datasets\n",
    "}"
   ]
  },
  {
   "cell_type": "code",
   "execution_count": 6,
   "id": "46060f19",
   "metadata": {},
   "outputs": [
    {
     "name": "stdout",
     "output_type": "stream",
     "text": [
      "8\n",
      "10\n",
      "20\n"
     ]
    }
   ],
   "source": [
    "for _, json_files in data_paths.items():\n",
    "    print(len(json_files))"
   ]
  },
  {
   "cell_type": "code",
   "execution_count": 7,
   "id": "3f28d72b",
   "metadata": {},
   "outputs": [],
   "source": [
    "def load_json_to_df(json_file):\n",
    "    df = pd.read_json(json_file, lines=True)\n",
    "    src = df.pop(\"srcNode\").apply(pd.Series).add_prefix(\"src_\")\n",
    "    dst = df.pop(\"dstNode\").apply(pd.Series).add_prefix(\"dst_\")\n",
    "    flat_df = pd.concat([df, src, dst], axis=1)\n",
    "    flat_df[\"datetime\"] = pd.to_datetime(flat_df[\"timestamp\"], unit=\"s\")\n",
    "    return flat_df"
   ]
  },
  {
   "cell_type": "code",
   "execution_count": 10,
   "id": "5be9e8fc",
   "metadata": {},
   "outputs": [
    {
     "name": "stderr",
     "output_type": "stream",
     "text": [
      "\n",
      "Loading known dataset:  38%|███▊      | 3/8 [3:30:16<5:50:27, 4205.58s/it]\n",
      "\n",
      "\u001b[A\n",
      "\u001b[A\n",
      "\u001b[A\n",
      "\u001b[A\n",
      "\u001b[A\n",
      "\u001b[A\n",
      "\u001b[A\n",
      "Loading known dataset: 100%|██████████| 8/8 [1:04:24<00:00, 483.10s/it]\n"
     ]
    }
   ],
   "source": [
    "known = {\n",
    "    f\"C{i+1}\": load_json_to_df(json_file)\n",
    "    for i, json_file in tqdm(enumerate(data_paths[\"known\"]), total=len(data_paths[\"known\"]), desc=\"Loading known dataset\")\n",
    "}"
   ]
  },
  {
   "cell_type": "code",
   "execution_count": 12,
   "id": "aa7d5d93",
   "metadata": {},
   "outputs": [
    {
     "data": {
      "text/plain": [
       "((844723, 22),\n",
       " (155296, 22),\n",
       " (442729, 22),\n",
       " (961920, 22),\n",
       " (950436, 22),\n",
       " (1203013, 22),\n",
       " (2072151, 22),\n",
       " (607416, 22))"
      ]
     },
     "execution_count": 12,
     "metadata": {},
     "output_type": "execute_result"
    }
   ],
   "source": [
    "known['C1'].shape, known['C2'].shape, known['C3'].shape, known['C4'].shape, known['C5'].shape, known['C6'].shape, known['C7'].shape, known['C8'].shape"
   ]
  },
  {
   "cell_type": "code",
   "execution_count": 15,
   "id": "c5b3a634",
   "metadata": {},
   "outputs": [
    {
     "name": "stdout",
     "output_type": "stream",
     "text": [
      "label\n",
      "benign                                            844674\n",
      "T1059.001_6efbccc1869e8cd618c0d3ecda407d5f            17\n",
      "T1547.009_501af516bd8b24fee0c7c650ae5cc861            10\n",
      "T1566.001_1afaec09315ab71fdfb167175e8a019a             9\n",
      "T1547.001_1f15ab22c39a9b6bb2bb0d77276dfcb3             5\n",
      "T1562.001_43e3334362b140924f001b256b229ee5             4\n",
      "T1564.003_9a2edad4053a2b59fb9167a9bc29e7dc             2\n",
      "T1204.002_522f3f35cd013e63830fa555495a0081             1\n",
      "T1055.002_e5bcefee-262d-4568-a261-e8a20855ec81         1\n",
      "Name: count, dtype: int64\n",
      "label\n",
      "benign                                            141172\n",
      "T1005_720a3356-eee1-4015-9135-0fc08f7eb2d5         14088\n",
      "T1566.001_1afaec09315ab71fdfb167175e8a019a             9\n",
      "T1059.001_bfff9006-d1fb-46ce-b173-92cb04e9a031         7\n",
      "T1021.001_dd67068b052fa553ad4a0ac7d6a5ea89             7\n",
      "T1547.001_1f15ab22c39a9b6bb2bb0d77276dfcb3             6\n",
      "T1548.002_665432a4-42e7-4ee1-af19-a9a8c9455d0c         4\n",
      "T1204.002_522f3f35cd013e63830fa555495a0081             1\n",
      "T1033_c0da588f-79f0-4263-8998-7496b1a40596             1\n",
      "T1518.001_2dece965-37a0-4f70-a391-0f30e3331aba         1\n",
      "Name: count, dtype: int64\n",
      "label\n",
      "benign                                        442670\n",
      "T1071.001_24c3b7b004401d839a5c337201da3484        21\n",
      "T1204.002_522f3f35cd013e63830fa555495a0081        12\n",
      "T1566.001_1afaec09315ab71fdfb167175e8a019a         9\n",
      "T1491_47d08617-5ce1-424a-8cc5-c9c978ce6bf9         6\n",
      "T1547.001_163b023f43aba758d36f524d146cb8ea         5\n",
      "T1112_35c0360d226cf38104f300d9d57ce60e             3\n",
      "T1047_b0255b5120cbabc062d8d4510a142c3b             1\n",
      "T1082_29451844-9b76-4e16-a9ee-d6feab4b24db         1\n",
      "T1053.005_ee454be9197890de62705ce6255933fd         1\n",
      "Name: count, dtype: int64\n",
      "label\n",
      "benign                                        960787\n",
      "T1046_5a4cb2be-2684-4801-9355-3a90c91e0004      1023\n",
      "T1219_7dabcbecab0334b115feefab1630f84a           100\n",
      "T1566.001_1afaec09315ab71fdfb167175e8a019a         9\n",
      "T1204.002_522f3f35cd013e63830fa555495a0081         1\n",
      "Name: count, dtype: int64\n",
      "label\n",
      "benign                                        950383\n",
      "T1083_52177cc1-b9ab-4411-ac21-2eadc4b5d3b8        21\n",
      "T1204.002_522f3f35cd013e63830fa555495a0081        12\n",
      "T1566.001_1afaec09315ab71fdfb167175e8a019a         9\n",
      "T1007_9d03c91bdae5a80f17f89c987942b5a8             7\n",
      "T1087.001_6334877e8e3ba48f7835d4856d90a282         1\n",
      "T1069.001_a1f48fa3ddee658b29b414523c9a295b         1\n",
      "T1016_7d8ee68f0e9731db82964f558f614608             1\n",
      "T1049_638fb6bb-ba39-4285-93d1-7e4775b033a8         1\n",
      "Name: count, dtype: int64\n",
      "label\n",
      "benign                                        1188876\n",
      "T1005_720a3356-eee1-4015-9135-0fc08f7eb2d5      14088\n",
      "T1071.001_24c3b7b004401d839a5c337201da3484         21\n",
      "T1204.002_522f3f35cd013e63830fa555495a0081         12\n",
      "T1566.001_1afaec09315ab71fdfb167175e8a019a          9\n",
      "T1567_3d3d378b0bf66f763b0c9d7a129eb130              6\n",
      "T1082_29451844-9b76-4e16-a9ee-d6feab4b24db          1\n",
      "Name: count, dtype: int64\n",
      "label\n",
      "benign                                        2072129\n",
      "T1566.001_1afaec09315ab71fdfb167175e8a019a          9\n",
      "T1105_0856c235a1d26113d4f2d92e39c9a9f8              7\n",
      "T1547.001_4b71ebb2f6f6a01235ba240fa40ce978          4\n",
      "T1204.002_522f3f35cd013e63830fa555495a0081          1\n",
      "T1053.005_5db2884b6ca3ab932848f295a3896dc0          1\n",
      "Name: count, dtype: int64\n",
      "label\n",
      "benign                                        607386\n",
      "T1204.002_522f3f35cd013e63830fa555495a0081        12\n",
      "T1566.001_1afaec09315ab71fdfb167175e8a019a         9\n",
      "T1547.001_1f15ab22c39a9b6bb2bb0d77276dfcb3         5\n",
      "T1082_29451844-9b76-4e16-a9ee-d6feab4b24db         1\n",
      "T1016_e8017c46-acb8-400c-a4b5-b3362b5b5baa         1\n",
      "T1036.004_1f0614ea5c4af6faf1b44570f5f22f8a         1\n",
      "T1053.005_ee454be9197890de62705ce6255933fd         1\n",
      "Name: count, dtype: int64\n"
     ]
    }
   ],
   "source": [
    "for _, df in known.items():\n",
    "    print(df['label'].value_counts())"
   ]
  },
  {
   "cell_type": "code",
   "execution_count": 16,
   "id": "c0cdc71e",
   "metadata": {},
   "outputs": [],
   "source": [
    "# check if all dfs in known have timestamp valid\n",
    "for name, df in known.items():\n",
    "    if not pd.to_datetime(df['timestamp'], errors='coerce').notna().all():\n",
    "        print(f\"Invalid timestamps found in dataframe {name}\")"
   ]
  },
  {
   "cell_type": "code",
   "execution_count": 17,
   "id": "54306891",
   "metadata": {},
   "outputs": [
    {
     "data": {
      "text/plain": [
       "Index(['relation', 'timestamp', 'label', 'src_UUID', 'src_Name', 'src_Image',\n",
       "       'src_Cmdline', 'src_Type', 'src_Pid', 'dst_UUID', 'dst_Name',\n",
       "       'dst_Type', 'dst_Key', 'dst_Value', 'dst_Srcaddress', 'dst_Dstaddress',\n",
       "       'dst_Port', 'dst_Image', 'dst_Cmdline', 'dst_Pid', 'dst_Path',\n",
       "       'datetime'],\n",
       "      dtype='object')"
      ]
     },
     "execution_count": 17,
     "metadata": {},
     "output_type": "execute_result"
    }
   ],
   "source": [
    "known['C1'].columns"
   ]
  },
  {
   "cell_type": "code",
   "execution_count": 18,
   "id": "2c9d0e36",
   "metadata": {},
   "outputs": [],
   "source": [
    "# Build log-style content\n",
    "\n",
    "def make_log_df(df: pd.DataFrame, include_timestamp_in_content=True) -> pd.DataFrame:\n",
    "    # Columns to combine (exclude label, and maybe timestamp)\n",
    "    exclude = {'label'}\n",
    "    if not include_timestamp_in_content:\n",
    "        exclude.add('timestamp')\n",
    "    cols = [c for c in df.columns if c not in exclude]\n",
    "    \n",
    "    # Preferred timestamp column (keep as integer; you can convert later)\n",
    "    out = df[['timestamp','label']].copy()\n",
    "    \n",
    "    # For speed: convert selected columns to string only where not null\n",
    "    def row_fmt(row):\n",
    "        parts = []\n",
    "        for c in cols:\n",
    "            v = row[c]\n",
    "            if pd.isna(v):\n",
    "                continue\n",
    "            # Use ISO for datetime column\n",
    "            if c == 'datetime':\n",
    "                v = pd.to_datetime(v).isoformat()\n",
    "            parts.append(f\"{c}={v}\")\n",
    "        return \" \".join(parts)\n",
    "    \n",
    "    out['content'] = df.apply(row_fmt, axis=1)\n",
    "    return out"
   ]
  },
  {
   "cell_type": "code",
   "execution_count": 21,
   "id": "c247c8e8",
   "metadata": {},
   "outputs": [],
   "source": [
    "_known = {\n",
    "    name: None for name in known.keys()\n",
    "}"
   ]
  },
  {
   "cell_type": "code",
   "execution_count": 22,
   "id": "d6ad1fe8",
   "metadata": {},
   "outputs": [],
   "source": [
    "_known['C1'] = make_log_df(known['C1'])"
   ]
  },
  {
   "cell_type": "code",
   "execution_count": null,
   "id": "b090e6a5",
   "metadata": {},
   "outputs": [
    {
     "data": {
      "text/html": [
       "<div>\n",
       "<style scoped>\n",
       "    .dataframe tbody tr th:only-of-type {\n",
       "        vertical-align: middle;\n",
       "    }\n",
       "\n",
       "    .dataframe tbody tr th {\n",
       "        vertical-align: top;\n",
       "    }\n",
       "\n",
       "    .dataframe thead th {\n",
       "        text-align: right;\n",
       "    }\n",
       "</style>\n",
       "<table border=\"1\" class=\"dataframe\">\n",
       "  <thead>\n",
       "    <tr style=\"text-align: right;\">\n",
       "      <th></th>\n",
       "      <th>timestamp</th>\n",
       "      <th>label</th>\n",
       "      <th>content</th>\n",
       "    </tr>\n",
       "  </thead>\n",
       "  <tbody>\n",
       "    <tr>\n",
       "      <th>0</th>\n",
       "      <td>2022-06-14 02:33:36</td>\n",
       "      <td>benign</td>\n",
       "      <td>relation=QueryAllInformationFile timestamp=202...</td>\n",
       "    </tr>\n",
       "    <tr>\n",
       "      <th>1</th>\n",
       "      <td>2022-06-14 02:33:36</td>\n",
       "      <td>benign</td>\n",
       "      <td>relation=CreateFile timestamp=2022-06-14 02:33...</td>\n",
       "    </tr>\n",
       "    <tr>\n",
       "      <th>2</th>\n",
       "      <td>2022-06-14 02:33:36</td>\n",
       "      <td>benign</td>\n",
       "      <td>relation=QueryAllInformationFile timestamp=202...</td>\n",
       "    </tr>\n",
       "    <tr>\n",
       "      <th>3</th>\n",
       "      <td>2022-06-14 02:33:36</td>\n",
       "      <td>benign</td>\n",
       "      <td>relation=CloseFile timestamp=2022-06-14 02:33:...</td>\n",
       "    </tr>\n",
       "    <tr>\n",
       "      <th>4</th>\n",
       "      <td>2022-06-14 02:33:36</td>\n",
       "      <td>benign</td>\n",
       "      <td>relation=CreateFile timestamp=2022-06-14 02:33...</td>\n",
       "    </tr>\n",
       "  </tbody>\n",
       "</table>\n",
       "</div>"
      ],
      "text/plain": [
       "            timestamp   label  \\\n",
       "0 2022-06-14 02:33:36  benign   \n",
       "1 2022-06-14 02:33:36  benign   \n",
       "2 2022-06-14 02:33:36  benign   \n",
       "3 2022-06-14 02:33:36  benign   \n",
       "4 2022-06-14 02:33:36  benign   \n",
       "\n",
       "                                             content  \n",
       "0  relation=QueryAllInformationFile timestamp=202...  \n",
       "1  relation=CreateFile timestamp=2022-06-14 02:33...  \n",
       "2  relation=QueryAllInformationFile timestamp=202...  \n",
       "3  relation=CloseFile timestamp=2022-06-14 02:33:...  \n",
       "4  relation=CreateFile timestamp=2022-06-14 02:33...  "
      ]
     },
     "execution_count": 23,
     "metadata": {},
     "output_type": "execute_result"
    }
   ],
   "source": [
    "_known['C1'].head()"
   ]
  },
  {
   "cell_type": "code",
   "execution_count": null,
   "id": "53dffb41",
   "metadata": {},
   "outputs": [],
   "source": [
    "_known['C1'].to_csv(\"path_to_your_dataset_folder/prod/C1_log.csv\", index=False)"
   ]
  },
  {
   "cell_type": "code",
   "execution_count": 25,
   "id": "de29af5d",
   "metadata": {},
   "outputs": [],
   "source": [
    "_known['C2'] = make_log_df(known['C2'])"
   ]
  },
  {
   "cell_type": "code",
   "execution_count": 26,
   "id": "50d6c42a",
   "metadata": {},
   "outputs": [
    {
     "data": {
      "text/html": [
       "<div>\n",
       "<style scoped>\n",
       "    .dataframe tbody tr th:only-of-type {\n",
       "        vertical-align: middle;\n",
       "    }\n",
       "\n",
       "    .dataframe tbody tr th {\n",
       "        vertical-align: top;\n",
       "    }\n",
       "\n",
       "    .dataframe thead th {\n",
       "        text-align: right;\n",
       "    }\n",
       "</style>\n",
       "<table border=\"1\" class=\"dataframe\">\n",
       "  <thead>\n",
       "    <tr style=\"text-align: right;\">\n",
       "      <th></th>\n",
       "      <th>timestamp</th>\n",
       "      <th>label</th>\n",
       "      <th>content</th>\n",
       "    </tr>\n",
       "  </thead>\n",
       "  <tbody>\n",
       "    <tr>\n",
       "      <th>0</th>\n",
       "      <td>2022-06-14 23:18:51</td>\n",
       "      <td>benign</td>\n",
       "      <td>relation=RegQueryValue timestamp=2022-06-14 23...</td>\n",
       "    </tr>\n",
       "    <tr>\n",
       "      <th>1</th>\n",
       "      <td>2022-06-14 23:18:51</td>\n",
       "      <td>benign</td>\n",
       "      <td>relation=RegQueryValue timestamp=2022-06-14 23...</td>\n",
       "    </tr>\n",
       "    <tr>\n",
       "      <th>2</th>\n",
       "      <td>2022-06-14 23:18:51</td>\n",
       "      <td>benign</td>\n",
       "      <td>relation=RegQueryValue timestamp=2022-06-14 23...</td>\n",
       "    </tr>\n",
       "    <tr>\n",
       "      <th>3</th>\n",
       "      <td>2022-06-14 23:18:51</td>\n",
       "      <td>benign</td>\n",
       "      <td>relation=RegQueryValue timestamp=2022-06-14 23...</td>\n",
       "    </tr>\n",
       "    <tr>\n",
       "      <th>4</th>\n",
       "      <td>2022-06-14 23:18:51</td>\n",
       "      <td>benign</td>\n",
       "      <td>relation=RegQueryValue timestamp=2022-06-14 23...</td>\n",
       "    </tr>\n",
       "  </tbody>\n",
       "</table>\n",
       "</div>"
      ],
      "text/plain": [
       "            timestamp   label  \\\n",
       "0 2022-06-14 23:18:51  benign   \n",
       "1 2022-06-14 23:18:51  benign   \n",
       "2 2022-06-14 23:18:51  benign   \n",
       "3 2022-06-14 23:18:51  benign   \n",
       "4 2022-06-14 23:18:51  benign   \n",
       "\n",
       "                                             content  \n",
       "0  relation=RegQueryValue timestamp=2022-06-14 23...  \n",
       "1  relation=RegQueryValue timestamp=2022-06-14 23...  \n",
       "2  relation=RegQueryValue timestamp=2022-06-14 23...  \n",
       "3  relation=RegQueryValue timestamp=2022-06-14 23...  \n",
       "4  relation=RegQueryValue timestamp=2022-06-14 23...  "
      ]
     },
     "execution_count": 26,
     "metadata": {},
     "output_type": "execute_result"
    }
   ],
   "source": [
    "_known['C2'].head()"
   ]
  },
  {
   "cell_type": "code",
   "execution_count": null,
   "id": "1bf9e4d8",
   "metadata": {},
   "outputs": [],
   "source": [
    "_known['C2'].to_csv(\"path_to_your_dataset_folder/prod/C2_log.csv\", index=False)"
   ]
  },
  {
   "cell_type": "code",
   "execution_count": 28,
   "id": "0a79ccca",
   "metadata": {},
   "outputs": [],
   "source": [
    "_known['C3'] = make_log_df(known['C3'])"
   ]
  },
  {
   "cell_type": "code",
   "execution_count": 29,
   "id": "234a576f",
   "metadata": {},
   "outputs": [
    {
     "data": {
      "text/html": [
       "<div>\n",
       "<style scoped>\n",
       "    .dataframe tbody tr th:only-of-type {\n",
       "        vertical-align: middle;\n",
       "    }\n",
       "\n",
       "    .dataframe tbody tr th {\n",
       "        vertical-align: top;\n",
       "    }\n",
       "\n",
       "    .dataframe thead th {\n",
       "        text-align: right;\n",
       "    }\n",
       "</style>\n",
       "<table border=\"1\" class=\"dataframe\">\n",
       "  <thead>\n",
       "    <tr style=\"text-align: right;\">\n",
       "      <th></th>\n",
       "      <th>timestamp</th>\n",
       "      <th>label</th>\n",
       "      <th>content</th>\n",
       "    </tr>\n",
       "  </thead>\n",
       "  <tbody>\n",
       "    <tr>\n",
       "      <th>0</th>\n",
       "      <td>2022-06-14 04:20:05</td>\n",
       "      <td>benign</td>\n",
       "      <td>relation=RegCreateKey timestamp=2022-06-14 04:...</td>\n",
       "    </tr>\n",
       "    <tr>\n",
       "      <th>1</th>\n",
       "      <td>2022-06-14 04:20:05</td>\n",
       "      <td>benign</td>\n",
       "      <td>relation=RegCloseKey timestamp=2022-06-14 04:2...</td>\n",
       "    </tr>\n",
       "    <tr>\n",
       "      <th>2</th>\n",
       "      <td>2022-06-14 04:20:05</td>\n",
       "      <td>benign</td>\n",
       "      <td>relation=RegQueryKey timestamp=2022-06-14 04:2...</td>\n",
       "    </tr>\n",
       "    <tr>\n",
       "      <th>3</th>\n",
       "      <td>2022-06-14 04:20:05</td>\n",
       "      <td>benign</td>\n",
       "      <td>relation=RegOpenKey timestamp=2022-06-14 04:20...</td>\n",
       "    </tr>\n",
       "    <tr>\n",
       "      <th>4</th>\n",
       "      <td>2022-06-14 04:20:05</td>\n",
       "      <td>benign</td>\n",
       "      <td>relation=RegCreateKey timestamp=2022-06-14 04:...</td>\n",
       "    </tr>\n",
       "  </tbody>\n",
       "</table>\n",
       "</div>"
      ],
      "text/plain": [
       "            timestamp   label  \\\n",
       "0 2022-06-14 04:20:05  benign   \n",
       "1 2022-06-14 04:20:05  benign   \n",
       "2 2022-06-14 04:20:05  benign   \n",
       "3 2022-06-14 04:20:05  benign   \n",
       "4 2022-06-14 04:20:05  benign   \n",
       "\n",
       "                                             content  \n",
       "0  relation=RegCreateKey timestamp=2022-06-14 04:...  \n",
       "1  relation=RegCloseKey timestamp=2022-06-14 04:2...  \n",
       "2  relation=RegQueryKey timestamp=2022-06-14 04:2...  \n",
       "3  relation=RegOpenKey timestamp=2022-06-14 04:20...  \n",
       "4  relation=RegCreateKey timestamp=2022-06-14 04:...  "
      ]
     },
     "execution_count": 29,
     "metadata": {},
     "output_type": "execute_result"
    }
   ],
   "source": [
    "_known['C3'].head()"
   ]
  },
  {
   "cell_type": "code",
   "execution_count": null,
   "id": "bfbdc756",
   "metadata": {},
   "outputs": [],
   "source": [
    "_known['C3'].to_csv(\"path_to_your_dataset_folder/prod/C3_log.csv\", index=False)"
   ]
  },
  {
   "cell_type": "code",
   "execution_count": 31,
   "id": "735578f1",
   "metadata": {},
   "outputs": [],
   "source": [
    "_known['C4'] = make_log_df(known['C4'])\n",
    "_known['C5'] = make_log_df(known['C5'])\n",
    "_known['C6'] = make_log_df(known['C6'])\n",
    "_known['C7'] = make_log_df(known['C7'])\n",
    "_known['C8'] = make_log_df(known['C8'])"
   ]
  },
  {
   "cell_type": "code",
   "execution_count": null,
   "id": "c664e1f9",
   "metadata": {},
   "outputs": [],
   "source": [
    "_known['C4'].to_csv(\"path_to_your_dataset_folder/prod/C4_log.csv\", index=False)\n",
    "_known['C5'].to_csv(\"path_to_your_dataset_folder/prod/C5_log.csv\", index=False)\n",
    "_known['C6'].to_csv(\"path_to_your_dataset_folder/prod/C6_log.csv\", index=False)\n",
    "_known['C7'].to_csv(\"path_to_your_dataset_folder/prod/C7_log.csv\", index=False)\n",
    "_known['C8'].to_csv(\"path_to_your_dataset_folder/prod/C8_log.csv\", index=False)"
   ]
  },
  {
   "cell_type": "code",
   "execution_count": null,
   "id": "945810d4",
   "metadata": {},
   "outputs": [],
   "source": [
    "# let's merge the _known dfs into one and then sorted by timestamp and then save it in prod as known.csv\n",
    "\n",
    "merged_known = pd.concat([_known['C1'], _known['C2'], _known['C3'], _known['C4'], _known['C5'], _known['C6'], _known['C7'], _known['C8']])\n",
    "merged_known = merged_known.sort_values(by='timestamp')\n",
    "merged_known.to_csv(\"path_to_your_dataset_folder/prod/known.csv\", index=False)\n"
   ]
  },
  {
   "cell_type": "code",
   "execution_count": 34,
   "id": "35a3bca4",
   "metadata": {},
   "outputs": [
    {
     "data": {
      "text/plain": [
       "(7237684, 3)"
      ]
     },
     "execution_count": 34,
     "metadata": {},
     "output_type": "execute_result"
    }
   ],
   "source": [
    "merged_known.shape"
   ]
  },
  {
   "cell_type": "code",
   "execution_count": 35,
   "id": "4fa92572",
   "metadata": {},
   "outputs": [
    {
     "data": {
      "text/plain": [
       "label\n",
       "benign                                            7208077\n",
       "T1005_720a3356-eee1-4015-9135-0fc08f7eb2d5          28176\n",
       "T1046_5a4cb2be-2684-4801-9355-3a90c91e0004           1023\n",
       "T1219_7dabcbecab0334b115feefab1630f84a                100\n",
       "T1566.001_1afaec09315ab71fdfb167175e8a019a             72\n",
       "T1204.002_522f3f35cd013e63830fa555495a0081             52\n",
       "T1071.001_24c3b7b004401d839a5c337201da3484             42\n",
       "T1083_52177cc1-b9ab-4411-ac21-2eadc4b5d3b8             21\n",
       "T1059.001_6efbccc1869e8cd618c0d3ecda407d5f             17\n",
       "T1547.001_1f15ab22c39a9b6bb2bb0d77276dfcb3             16\n",
       "T1547.009_501af516bd8b24fee0c7c650ae5cc861             10\n",
       "T1059.001_bfff9006-d1fb-46ce-b173-92cb04e9a031          7\n",
       "T1007_9d03c91bdae5a80f17f89c987942b5a8                  7\n",
       "T1021.001_dd67068b052fa553ad4a0ac7d6a5ea89              7\n",
       "T1105_0856c235a1d26113d4f2d92e39c9a9f8                  7\n",
       "T1491_47d08617-5ce1-424a-8cc5-c9c978ce6bf9              6\n",
       "T1567_3d3d378b0bf66f763b0c9d7a129eb130                  6\n",
       "T1547.001_163b023f43aba758d36f524d146cb8ea              5\n",
       "T1547.001_4b71ebb2f6f6a01235ba240fa40ce978              4\n",
       "T1548.002_665432a4-42e7-4ee1-af19-a9a8c9455d0c          4\n",
       "T1562.001_43e3334362b140924f001b256b229ee5              4\n",
       "T1112_35c0360d226cf38104f300d9d57ce60e                  3\n",
       "T1082_29451844-9b76-4e16-a9ee-d6feab4b24db              3\n",
       "T1053.005_ee454be9197890de62705ce6255933fd              2\n",
       "T1564.003_9a2edad4053a2b59fb9167a9bc29e7dc              2\n",
       "T1033_c0da588f-79f0-4263-8998-7496b1a40596              1\n",
       "T1518.001_2dece965-37a0-4f70-a391-0f30e3331aba          1\n",
       "T1055.002_e5bcefee-262d-4568-a261-e8a20855ec81          1\n",
       "T1087.001_6334877e8e3ba48f7835d4856d90a282              1\n",
       "T1047_b0255b5120cbabc062d8d4510a142c3b                  1\n",
       "T1053.005_5db2884b6ca3ab932848f295a3896dc0              1\n",
       "T1036.004_1f0614ea5c4af6faf1b44570f5f22f8a              1\n",
       "T1016_e8017c46-acb8-400c-a4b5-b3362b5b5baa              1\n",
       "T1016_7d8ee68f0e9731db82964f558f614608                  1\n",
       "T1049_638fb6bb-ba39-4285-93d1-7e4775b033a8              1\n",
       "T1069.001_a1f48fa3ddee658b29b414523c9a295b              1\n",
       "Name: count, dtype: int64"
      ]
     },
     "execution_count": 35,
     "metadata": {},
     "output_type": "execute_result"
    }
   ],
   "source": [
    "merged_known['label'].value_counts()"
   ]
  },
  {
   "cell_type": "code",
   "execution_count": 36,
   "id": "20f7d501",
   "metadata": {},
   "outputs": [],
   "source": [
    "# create a new column Label in merged_known, it will be 0 if label is benign and 1 otherwise\n",
    "merged_known['Label'] = merged_known['label'].apply(lambda x: 0 if x == 'benign' else 1) "
   ]
  },
  {
   "cell_type": "code",
   "execution_count": null,
   "id": "a30f018d",
   "metadata": {},
   "outputs": [],
   "source": [
    "# save\n",
    "merged_known.to_csv(\"path_to_your_dataset_folder/prod/known.csv\", index=False)\n"
   ]
  },
  {
   "cell_type": "code",
   "execution_count": 38,
   "id": "7b502ab9",
   "metadata": {},
   "outputs": [
    {
     "data": {
      "text/plain": [
       "Label\n",
       "0    7208077\n",
       "1      29607\n",
       "Name: count, dtype: int64"
      ]
     },
     "execution_count": 38,
     "metadata": {},
     "output_type": "execute_result"
    }
   ],
   "source": [
    "merged_known['Label'].value_counts()"
   ]
  },
  {
   "cell_type": "code",
   "execution_count": 39,
   "id": "0eaddb62",
   "metadata": {},
   "outputs": [
    {
     "data": {
      "text/plain": [
       "Index(['timestamp', 'label', 'content', 'Label'], dtype='object')"
      ]
     },
     "execution_count": 39,
     "metadata": {},
     "output_type": "execute_result"
    }
   ],
   "source": [
    "merged_known.columns"
   ]
  },
  {
   "cell_type": "markdown",
   "id": "d8b64569",
   "metadata": {},
   "source": [
    "# Import Prod version"
   ]
  },
  {
   "cell_type": "code",
   "execution_count": null,
   "id": "ca20d57e",
   "metadata": {},
   "outputs": [],
   "source": [
    "_path = \"your_path_to_dataset/known.csv\""
   ]
  },
  {
   "cell_type": "code",
   "execution_count": 5,
   "id": "1e891eca",
   "metadata": {},
   "outputs": [
    {
     "data": {
      "text/plain": [
       "(7237684, 4)"
      ]
     },
     "execution_count": 5,
     "metadata": {},
     "output_type": "execute_result"
    }
   ],
   "source": [
    "df = pd.read_csv(_path, low_memory=False)\n",
    "df.shape"
   ]
  },
  {
   "cell_type": "code",
   "execution_count": 6,
   "id": "d88e565b",
   "metadata": {},
   "outputs": [
    {
     "data": {
      "text/html": [
       "<div>\n",
       "<style scoped>\n",
       "    .dataframe tbody tr th:only-of-type {\n",
       "        vertical-align: middle;\n",
       "    }\n",
       "\n",
       "    .dataframe tbody tr th {\n",
       "        vertical-align: top;\n",
       "    }\n",
       "\n",
       "    .dataframe thead th {\n",
       "        text-align: right;\n",
       "    }\n",
       "</style>\n",
       "<table border=\"1\" class=\"dataframe\">\n",
       "  <thead>\n",
       "    <tr style=\"text-align: right;\">\n",
       "      <th></th>\n",
       "      <th>timestamp</th>\n",
       "      <th>label</th>\n",
       "      <th>content</th>\n",
       "      <th>Label</th>\n",
       "    </tr>\n",
       "  </thead>\n",
       "  <tbody>\n",
       "    <tr>\n",
       "      <th>0</th>\n",
       "      <td>2022-06-14 02:24:43</td>\n",
       "      <td>benign</td>\n",
       "      <td>relation=CreateFile timestamp=2022-06-14 02:24...</td>\n",
       "      <td>0</td>\n",
       "    </tr>\n",
       "    <tr>\n",
       "      <th>1</th>\n",
       "      <td>2022-06-14 02:24:43</td>\n",
       "      <td>benign</td>\n",
       "      <td>relation=CloseFile timestamp=2022-06-14 02:24:...</td>\n",
       "      <td>0</td>\n",
       "    </tr>\n",
       "    <tr>\n",
       "      <th>2</th>\n",
       "      <td>2022-06-14 02:24:43</td>\n",
       "      <td>benign</td>\n",
       "      <td>relation=CreateFile timestamp=2022-06-14 02:24...</td>\n",
       "      <td>0</td>\n",
       "    </tr>\n",
       "    <tr>\n",
       "      <th>3</th>\n",
       "      <td>2022-06-14 02:24:43</td>\n",
       "      <td>benign</td>\n",
       "      <td>relation=QueryBasicInformationFile timestamp=2...</td>\n",
       "      <td>0</td>\n",
       "    </tr>\n",
       "    <tr>\n",
       "      <th>4</th>\n",
       "      <td>2022-06-14 02:24:43</td>\n",
       "      <td>benign</td>\n",
       "      <td>relation=CreateFile timestamp=2022-06-14 02:24...</td>\n",
       "      <td>0</td>\n",
       "    </tr>\n",
       "  </tbody>\n",
       "</table>\n",
       "</div>"
      ],
      "text/plain": [
       "             timestamp   label  \\\n",
       "0  2022-06-14 02:24:43  benign   \n",
       "1  2022-06-14 02:24:43  benign   \n",
       "2  2022-06-14 02:24:43  benign   \n",
       "3  2022-06-14 02:24:43  benign   \n",
       "4  2022-06-14 02:24:43  benign   \n",
       "\n",
       "                                             content  Label  \n",
       "0  relation=CreateFile timestamp=2022-06-14 02:24...      0  \n",
       "1  relation=CloseFile timestamp=2022-06-14 02:24:...      0  \n",
       "2  relation=CreateFile timestamp=2022-06-14 02:24...      0  \n",
       "3  relation=QueryBasicInformationFile timestamp=2...      0  \n",
       "4  relation=CreateFile timestamp=2022-06-14 02:24...      0  "
      ]
     },
     "execution_count": 6,
     "metadata": {},
     "output_type": "execute_result"
    }
   ],
   "source": [
    "df.head()"
   ]
  },
  {
   "cell_type": "code",
   "execution_count": 7,
   "id": "d057656f",
   "metadata": {},
   "outputs": [
    {
     "data": {
      "text/plain": [
       "Label\n",
       "0    7208077\n",
       "1      29607\n",
       "Name: count, dtype: int64"
      ]
     },
     "execution_count": 7,
     "metadata": {},
     "output_type": "execute_result"
    }
   ],
   "source": [
    "df['Label'].value_counts()"
   ]
  },
  {
   "cell_type": "code",
   "execution_count": 8,
   "id": "2d822753",
   "metadata": {},
   "outputs": [],
   "source": [
    "def clean_log_content(log_content):\n",
    "\n",
    "    if not log_content or pd.isna(log_content):\n",
    "        return log_content\n",
    "        \n",
    "    # Pattern 1: Long hexadecimal strings (>20 characters)\n",
    "    hex_pattern = r'\\b[0-9a-fA-F]{20,}\\b'\n",
    "    log_content = re.sub(hex_pattern, '<HEX_DATA>', log_content)\n",
    "\n",
    "    # Pattern 2: Memory addresses (hex values with 0x prefix or typical memory patterns)\n",
    "    memory_pattern = r'\\b0x[0-9a-fA-F]+\\b|[a-zA-Z0-9]+=0x[0-9a-fA-F]+|[a-zA-Z0-9]+=[0-9a-fA-F]{8,16}\\b'\n",
    "    log_content = re.sub(memory_pattern, '<MEMORY_ADDR>', log_content)\n",
    "\n",
    "    # Pattern 3: File descriptors and handles\n",
    "    fd_pattern = r'\\b(?:fd|handle|descriptor)=\\d+\\b'\n",
    "    log_content = re.sub(fd_pattern, '<FILE_DESC>', log_content)\n",
    "\n",
    "    # Pattern 4: Process IDs, Thread IDs, and similar numeric identifiers\n",
    "    pid_pattern = r'\\b(?:pid|ppid|tid|uid|gid|sid)=\\d+\\b'\n",
    "    log_content = re.sub(pid_pattern, '<PROCESS_ID>', log_content)\n",
    "\n",
    "    # Pattern 5: Timestamps within log content\n",
    "    timestamp_pattern = r'\\b\\d{4}-\\d{2}-\\d{2}[T\\s]\\d{2}:\\d{2}:\\d{2}(?:\\.\\d+)?(?:Z|[+-]\\d{2}:\\d{2})?\\b'\n",
    "    log_content = re.sub(timestamp_pattern, '<TIMESTAMP>', log_content)\n",
    "\n",
    "    # Pattern 6: Long numeric sequences (often IDs or hashes)\n",
    "    long_num_pattern = r'\\b\\d{10,}\\b'\n",
    "    log_content = re.sub(long_num_pattern, '<LONG_NUM>', log_content)\n",
    "\n",
    "    # Pattern 7: IP addresses\n",
    "    ip_pattern = r'\\b(?:\\d{1,3}\\.){3}\\d{1,3}\\b'\n",
    "    log_content = re.sub(ip_pattern, '<IP_ADDR>', log_content)\n",
    "\n",
    "    # Pattern 8: File paths with high variability\n",
    "    path_pattern = r'(/[a-zA-Z0-9_.-]+){4,}'\n",
    "    log_content = re.sub(path_pattern, '<FILE_PATH>', log_content)\n",
    "\n",
    "    # Pattern 9: URLs and URIs\n",
    "    url_pattern = r'https?://[^\\s]+|[a-zA-Z][a-zA-Z0-9+.-]*://[^\\s]+'\n",
    "    log_content = re.sub(url_pattern, '<URL>', log_content)\n",
    "\n",
    "    # Pattern 10: Email addresses\n",
    "    email_pattern = r'\\b[a-zA-Z0-9._%+-]+@[a-zA-Z0-9.-]+\\.[a-zA-Z]{2,}\\b'\n",
    "    log_content = re.sub(email_pattern, '<EMAIL>', log_content)\n",
    "\n",
    "    # Pattern 11: Clean up multiple consecutive spaces and normalize whitespace\n",
    "    log_content = re.sub(r'\\s+', ' ', log_content)\n",
    "\n",
    "    # Pattern 12: Remove empty brackets and parentheses left after cleaning\n",
    "    log_content = re.sub(r'\\[\\s*\\]|\\(\\s*\\)', '', log_content)\n",
    "\n",
    "    return log_content.strip()"
   ]
  },
  {
   "cell_type": "code",
   "execution_count": 9,
   "id": "8a13c802",
   "metadata": {},
   "outputs": [],
   "source": [
    "df['Content'] = df['content'].apply(clean_log_content)"
   ]
  },
  {
   "cell_type": "code",
   "execution_count": 10,
   "id": "3d446460",
   "metadata": {},
   "outputs": [
    {
     "data": {
      "text/html": [
       "<div>\n",
       "<style scoped>\n",
       "    .dataframe tbody tr th:only-of-type {\n",
       "        vertical-align: middle;\n",
       "    }\n",
       "\n",
       "    .dataframe tbody tr th {\n",
       "        vertical-align: top;\n",
       "    }\n",
       "\n",
       "    .dataframe thead th {\n",
       "        text-align: right;\n",
       "    }\n",
       "</style>\n",
       "<table border=\"1\" class=\"dataframe\">\n",
       "  <thead>\n",
       "    <tr style=\"text-align: right;\">\n",
       "      <th></th>\n",
       "      <th>timestamp</th>\n",
       "      <th>label</th>\n",
       "      <th>content</th>\n",
       "      <th>Label</th>\n",
       "      <th>Content</th>\n",
       "    </tr>\n",
       "  </thead>\n",
       "  <tbody>\n",
       "    <tr>\n",
       "      <th>0</th>\n",
       "      <td>2022-06-14 02:24:43</td>\n",
       "      <td>benign</td>\n",
       "      <td>relation=CreateFile timestamp=2022-06-14 02:24...</td>\n",
       "      <td>0</td>\n",
       "      <td>relation=CreateFile timestamp=&lt;TIMESTAMP&gt; src_...</td>\n",
       "    </tr>\n",
       "    <tr>\n",
       "      <th>1</th>\n",
       "      <td>2022-06-14 02:24:43</td>\n",
       "      <td>benign</td>\n",
       "      <td>relation=CloseFile timestamp=2022-06-14 02:24:...</td>\n",
       "      <td>0</td>\n",
       "      <td>relation=CloseFile timestamp=&lt;TIMESTAMP&gt; src_&lt;...</td>\n",
       "    </tr>\n",
       "    <tr>\n",
       "      <th>2</th>\n",
       "      <td>2022-06-14 02:24:43</td>\n",
       "      <td>benign</td>\n",
       "      <td>relation=CreateFile timestamp=2022-06-14 02:24...</td>\n",
       "      <td>0</td>\n",
       "      <td>relation=CreateFile timestamp=&lt;TIMESTAMP&gt; src_...</td>\n",
       "    </tr>\n",
       "    <tr>\n",
       "      <th>3</th>\n",
       "      <td>2022-06-14 02:24:43</td>\n",
       "      <td>benign</td>\n",
       "      <td>relation=QueryBasicInformationFile timestamp=2...</td>\n",
       "      <td>0</td>\n",
       "      <td>relation=QueryBasicInformationFile timestamp=&lt;...</td>\n",
       "    </tr>\n",
       "    <tr>\n",
       "      <th>4</th>\n",
       "      <td>2022-06-14 02:24:43</td>\n",
       "      <td>benign</td>\n",
       "      <td>relation=CreateFile timestamp=2022-06-14 02:24...</td>\n",
       "      <td>0</td>\n",
       "      <td>relation=CreateFile timestamp=&lt;TIMESTAMP&gt; src_...</td>\n",
       "    </tr>\n",
       "  </tbody>\n",
       "</table>\n",
       "</div>"
      ],
      "text/plain": [
       "             timestamp   label  \\\n",
       "0  2022-06-14 02:24:43  benign   \n",
       "1  2022-06-14 02:24:43  benign   \n",
       "2  2022-06-14 02:24:43  benign   \n",
       "3  2022-06-14 02:24:43  benign   \n",
       "4  2022-06-14 02:24:43  benign   \n",
       "\n",
       "                                             content  Label  \\\n",
       "0  relation=CreateFile timestamp=2022-06-14 02:24...      0   \n",
       "1  relation=CloseFile timestamp=2022-06-14 02:24:...      0   \n",
       "2  relation=CreateFile timestamp=2022-06-14 02:24...      0   \n",
       "3  relation=QueryBasicInformationFile timestamp=2...      0   \n",
       "4  relation=CreateFile timestamp=2022-06-14 02:24...      0   \n",
       "\n",
       "                                             Content  \n",
       "0  relation=CreateFile timestamp=<TIMESTAMP> src_...  \n",
       "1  relation=CloseFile timestamp=<TIMESTAMP> src_<...  \n",
       "2  relation=CreateFile timestamp=<TIMESTAMP> src_...  \n",
       "3  relation=QueryBasicInformationFile timestamp=<...  \n",
       "4  relation=CreateFile timestamp=<TIMESTAMP> src_...  "
      ]
     },
     "execution_count": 10,
     "metadata": {},
     "output_type": "execute_result"
    }
   ],
   "source": [
    "df.head()"
   ]
  },
  {
   "cell_type": "code",
   "execution_count": null,
   "id": "11746a53",
   "metadata": {},
   "outputs": [],
   "source": [
    "df.to_csv('path_to/known8.csv', index=False)"
   ]
  },
  {
   "cell_type": "code",
   "execution_count": null,
   "id": "d835cb5a",
   "metadata": {},
   "outputs": [],
   "source": []
  },
  {
   "cell_type": "code",
   "execution_count": null,
   "id": "cd033da0",
   "metadata": {},
   "outputs": [],
   "source": []
  },
  {
   "cell_type": "code",
   "execution_count": null,
   "id": "b8bc6d7e",
   "metadata": {},
   "outputs": [],
   "source": [
    "_path = \"path_to/C8_log.csv\""
   ]
  },
  {
   "cell_type": "code",
   "execution_count": 69,
   "id": "d4f46b97",
   "metadata": {},
   "outputs": [
    {
     "data": {
      "text/plain": [
       "(607416, 3)"
      ]
     },
     "execution_count": 69,
     "metadata": {},
     "output_type": "execute_result"
    }
   ],
   "source": [
    "df2 = pd.read_csv(_path, low_memory=False)\n",
    "df2.shape"
   ]
  },
  {
   "cell_type": "code",
   "execution_count": 70,
   "id": "b92ab654",
   "metadata": {},
   "outputs": [
    {
     "data": {
      "text/html": [
       "<div>\n",
       "<style scoped>\n",
       "    .dataframe tbody tr th:only-of-type {\n",
       "        vertical-align: middle;\n",
       "    }\n",
       "\n",
       "    .dataframe tbody tr th {\n",
       "        vertical-align: top;\n",
       "    }\n",
       "\n",
       "    .dataframe thead th {\n",
       "        text-align: right;\n",
       "    }\n",
       "</style>\n",
       "<table border=\"1\" class=\"dataframe\">\n",
       "  <thead>\n",
       "    <tr style=\"text-align: right;\">\n",
       "      <th></th>\n",
       "      <th>timestamp</th>\n",
       "      <th>label</th>\n",
       "      <th>content</th>\n",
       "    </tr>\n",
       "  </thead>\n",
       "  <tbody>\n",
       "    <tr>\n",
       "      <th>0</th>\n",
       "      <td>2022-06-14 04:09:05</td>\n",
       "      <td>benign</td>\n",
       "      <td>relation=RegQueryValue timestamp=2022-06-14 04...</td>\n",
       "    </tr>\n",
       "    <tr>\n",
       "      <th>1</th>\n",
       "      <td>2022-06-14 04:09:05</td>\n",
       "      <td>benign</td>\n",
       "      <td>relation=RegQueryValue timestamp=2022-06-14 04...</td>\n",
       "    </tr>\n",
       "    <tr>\n",
       "      <th>2</th>\n",
       "      <td>2022-06-14 04:09:05</td>\n",
       "      <td>benign</td>\n",
       "      <td>relation=RegQueryValue timestamp=2022-06-14 04...</td>\n",
       "    </tr>\n",
       "    <tr>\n",
       "      <th>3</th>\n",
       "      <td>2022-06-14 04:09:05</td>\n",
       "      <td>benign</td>\n",
       "      <td>relation=RegQueryValue timestamp=2022-06-14 04...</td>\n",
       "    </tr>\n",
       "    <tr>\n",
       "      <th>4</th>\n",
       "      <td>2022-06-14 04:09:05</td>\n",
       "      <td>benign</td>\n",
       "      <td>relation=RegQueryValue timestamp=2022-06-14 04...</td>\n",
       "    </tr>\n",
       "  </tbody>\n",
       "</table>\n",
       "</div>"
      ],
      "text/plain": [
       "             timestamp   label  \\\n",
       "0  2022-06-14 04:09:05  benign   \n",
       "1  2022-06-14 04:09:05  benign   \n",
       "2  2022-06-14 04:09:05  benign   \n",
       "3  2022-06-14 04:09:05  benign   \n",
       "4  2022-06-14 04:09:05  benign   \n",
       "\n",
       "                                             content  \n",
       "0  relation=RegQueryValue timestamp=2022-06-14 04...  \n",
       "1  relation=RegQueryValue timestamp=2022-06-14 04...  \n",
       "2  relation=RegQueryValue timestamp=2022-06-14 04...  \n",
       "3  relation=RegQueryValue timestamp=2022-06-14 04...  \n",
       "4  relation=RegQueryValue timestamp=2022-06-14 04...  "
      ]
     },
     "execution_count": 70,
     "metadata": {},
     "output_type": "execute_result"
    }
   ],
   "source": [
    "df2.head()"
   ]
  },
  {
   "cell_type": "code",
   "execution_count": 71,
   "id": "e3a15e3a",
   "metadata": {},
   "outputs": [],
   "source": [
    "df2['Label'] = df2['label'].apply(lambda x: 0 if x == 'benign' else 1)"
   ]
  },
  {
   "cell_type": "code",
   "execution_count": 72,
   "id": "44869e9e",
   "metadata": {},
   "outputs": [],
   "source": [
    "df2['Content'] = df2['content'].apply(clean_log_content)"
   ]
  },
  {
   "cell_type": "code",
   "execution_count": 73,
   "id": "34213f12",
   "metadata": {},
   "outputs": [
    {
     "data": {
      "text/html": [
       "<div>\n",
       "<style scoped>\n",
       "    .dataframe tbody tr th:only-of-type {\n",
       "        vertical-align: middle;\n",
       "    }\n",
       "\n",
       "    .dataframe tbody tr th {\n",
       "        vertical-align: top;\n",
       "    }\n",
       "\n",
       "    .dataframe thead th {\n",
       "        text-align: right;\n",
       "    }\n",
       "</style>\n",
       "<table border=\"1\" class=\"dataframe\">\n",
       "  <thead>\n",
       "    <tr style=\"text-align: right;\">\n",
       "      <th></th>\n",
       "      <th>timestamp</th>\n",
       "      <th>label</th>\n",
       "      <th>content</th>\n",
       "      <th>Label</th>\n",
       "      <th>Content</th>\n",
       "    </tr>\n",
       "  </thead>\n",
       "  <tbody>\n",
       "    <tr>\n",
       "      <th>0</th>\n",
       "      <td>2022-06-14 04:09:05</td>\n",
       "      <td>benign</td>\n",
       "      <td>relation=RegQueryValue timestamp=2022-06-14 04...</td>\n",
       "      <td>0</td>\n",
       "      <td>relation=RegQueryValue timestamp=&lt;TIMESTAMP&gt; s...</td>\n",
       "    </tr>\n",
       "    <tr>\n",
       "      <th>1</th>\n",
       "      <td>2022-06-14 04:09:05</td>\n",
       "      <td>benign</td>\n",
       "      <td>relation=RegQueryValue timestamp=2022-06-14 04...</td>\n",
       "      <td>0</td>\n",
       "      <td>relation=RegQueryValue timestamp=&lt;TIMESTAMP&gt; s...</td>\n",
       "    </tr>\n",
       "    <tr>\n",
       "      <th>2</th>\n",
       "      <td>2022-06-14 04:09:05</td>\n",
       "      <td>benign</td>\n",
       "      <td>relation=RegQueryValue timestamp=2022-06-14 04...</td>\n",
       "      <td>0</td>\n",
       "      <td>relation=RegQueryValue timestamp=&lt;TIMESTAMP&gt; s...</td>\n",
       "    </tr>\n",
       "    <tr>\n",
       "      <th>3</th>\n",
       "      <td>2022-06-14 04:09:05</td>\n",
       "      <td>benign</td>\n",
       "      <td>relation=RegQueryValue timestamp=2022-06-14 04...</td>\n",
       "      <td>0</td>\n",
       "      <td>relation=RegQueryValue timestamp=&lt;TIMESTAMP&gt; s...</td>\n",
       "    </tr>\n",
       "    <tr>\n",
       "      <th>4</th>\n",
       "      <td>2022-06-14 04:09:05</td>\n",
       "      <td>benign</td>\n",
       "      <td>relation=RegQueryValue timestamp=2022-06-14 04...</td>\n",
       "      <td>0</td>\n",
       "      <td>relation=RegQueryValue timestamp=&lt;TIMESTAMP&gt; s...</td>\n",
       "    </tr>\n",
       "  </tbody>\n",
       "</table>\n",
       "</div>"
      ],
      "text/plain": [
       "             timestamp   label  \\\n",
       "0  2022-06-14 04:09:05  benign   \n",
       "1  2022-06-14 04:09:05  benign   \n",
       "2  2022-06-14 04:09:05  benign   \n",
       "3  2022-06-14 04:09:05  benign   \n",
       "4  2022-06-14 04:09:05  benign   \n",
       "\n",
       "                                             content  Label  \\\n",
       "0  relation=RegQueryValue timestamp=2022-06-14 04...      0   \n",
       "1  relation=RegQueryValue timestamp=2022-06-14 04...      0   \n",
       "2  relation=RegQueryValue timestamp=2022-06-14 04...      0   \n",
       "3  relation=RegQueryValue timestamp=2022-06-14 04...      0   \n",
       "4  relation=RegQueryValue timestamp=2022-06-14 04...      0   \n",
       "\n",
       "                                             Content  \n",
       "0  relation=RegQueryValue timestamp=<TIMESTAMP> s...  \n",
       "1  relation=RegQueryValue timestamp=<TIMESTAMP> s...  \n",
       "2  relation=RegQueryValue timestamp=<TIMESTAMP> s...  \n",
       "3  relation=RegQueryValue timestamp=<TIMESTAMP> s...  \n",
       "4  relation=RegQueryValue timestamp=<TIMESTAMP> s...  "
      ]
     },
     "execution_count": 73,
     "metadata": {},
     "output_type": "execute_result"
    }
   ],
   "source": [
    "df2.head()"
   ]
  },
  {
   "cell_type": "code",
   "execution_count": 74,
   "id": "fb89c6e7",
   "metadata": {},
   "outputs": [
    {
     "data": {
      "text/plain": [
       "Label\n",
       "0    607386\n",
       "1        30\n",
       "Name: count, dtype: int64"
      ]
     },
     "execution_count": 74,
     "metadata": {},
     "output_type": "execute_result"
    }
   ],
   "source": [
    "df2['Label'].value_counts()"
   ]
  },
  {
   "cell_type": "code",
   "execution_count": null,
   "id": "39cc6a41",
   "metadata": {},
   "outputs": [],
   "source": [
    "df2.to_csv(\"path_to/known_c8.csv\", index=False)"
   ]
  },
  {
   "cell_type": "markdown",
   "id": "b6866a14",
   "metadata": {},
   "source": [
    "# Analysis"
   ]
  },
  {
   "cell_type": "code",
   "execution_count": 76,
   "id": "58bc5f62",
   "metadata": {},
   "outputs": [],
   "source": [
    "_FONT_SIZE = 24\n",
    "_FS = 22"
   ]
  },
  {
   "cell_type": "code",
   "execution_count": 77,
   "id": "26996c3f",
   "metadata": {},
   "outputs": [],
   "source": [
    "# from 1 to 8\n",
    "datasets = [i for i in range(1, 9)]\n"
   ]
  },
  {
   "cell_type": "code",
   "execution_count": null,
   "id": "71dc5a17",
   "metadata": {},
   "outputs": [],
   "source": [
    "BASE_PATH = Path(\".../prod/known\")"
   ]
  },
  {
   "cell_type": "code",
   "execution_count": 84,
   "id": "ca80605d",
   "metadata": {},
   "outputs": [],
   "source": [
    "def load_prod(dataset_name, cols=None):\n",
    "    file_path = BASE_PATH / f\"known_c{dataset_name}.csv\"\n",
    "    df = pd.read_csv(file_path, low_memory=False)\n",
    "    if cols:\n",
    "        df = df[cols]\n",
    "    return df"
   ]
  },
  {
   "cell_type": "code",
   "execution_count": 89,
   "id": "621b5427",
   "metadata": {},
   "outputs": [],
   "source": [
    "data = {\n",
    "    f\"C{name}\": load_prod(name, [\"Label\"]) for name in datasets\n",
    "}"
   ]
  },
  {
   "cell_type": "code",
   "execution_count": 90,
   "id": "80b384f6",
   "metadata": {},
   "outputs": [],
   "source": [
    "counts = {\n",
    "    name: {\"Total\": len(df), \"Normal\": df[df['Label'] == 0].shape[0], \"Anomalous\": df[df['Label'] == 1].shape[0]}\n",
    "    for name, df in data.items()\n",
    "}"
   ]
  },
  {
   "cell_type": "code",
   "execution_count": 91,
   "id": "66649fab",
   "metadata": {},
   "outputs": [
    {
     "name": "stderr",
     "output_type": "stream",
     "text": [
      "<ipython-input-91-6d1ffea64965>:43: UserWarning: FixedFormatter should only be used together with FixedLocator\n",
      "  ax.set_xticklabels(ax.get_xticklabels(), ha='center', fontsize=_FS)\n"
     ]
    },
    {
     "data": {
      "image/png": "[encoded data removed]",
      "text/plain": [
       "<Figure size 2200x1100 with 1 Axes>"
      ]
     },
     "metadata": {},
     "output_type": "display_data"
    }
   ],
   "source": [
    "#Convert the dictionary to a DataFrame and reset the index\n",
    "df = pd.DataFrame(counts).T.reset_index()\n",
    "df = df.rename(columns={\"index\": \"Dataset\"})\n",
    "\n",
    "# Melt the DataFrame to a long format suitable for Seaborn\n",
    "# This creates separate rows for 'Normal' and 'Anomalous' counts\n",
    "df_melted = df.melt(id_vars=\"Dataset\", value_vars=[\"Normal\", \"Anomalous\"],\n",
    "                    var_name=\"Label\", value_name=\"Count\")\n",
    "\n",
    "# --- New section to calculate percentages ---\n",
    "# Create a dictionary mapping each Dataset to its Total count\n",
    "total_counts = df.set_index('Dataset')['Total'].to_dict()\n",
    "\n",
    "# Calculate the percentage for each row in the melted DataFrame\n",
    "# The percentage is (Count / Total for that Dataset) * 100\n",
    "df_melted['Percentage'] = df_melted.apply(\n",
    "    lambda row: (row['Count'] / total_counts[row['Dataset']]) * 100,\n",
    "    axis=1\n",
    ")\n",
    "# --- End of new section ---\n",
    "\n",
    "# Set the figure size for better readability\n",
    "plt.style.use('default')\n",
    "plt.figure(figsize=(22, 11))\n",
    "\n",
    "# Create the bar plot and store the Axes object\n",
    "ax = sns.barplot(data=df_melted, x=\"Dataset\", y=\"Count\", hue=\"Label\")\n",
    "\n",
    "# Add the percentage labels on top of each bar\n",
    "# ax.containers holds the groups of bars (one group for 'Normal', one for 'Anomalous')\n",
    "for i, container in enumerate(ax.containers):\n",
    "    # Get the correct percentage values for the current container (hue)\n",
    "    # The order of hue is determined by the `value_vars` list in `melt`\n",
    "    hue_label = [\"Normal\", \"Anomalous\"][i]\n",
    "    labels = [f'{p:.1f}%' for p in df_melted[df_melted['Label'] == hue_label]['Percentage']]\n",
    "    \n",
    "    # Attach the labels to the bars in the container\n",
    "    ax.bar_label(container, labels=labels, label_type='edge', fontsize=_FONT_SIZE, padding=2, rotation=25)\n",
    "    \n",
    "\n",
    "# Adjust the y-axis limit to give more space for the labels\n",
    "ax.set_ylim(top=ax.get_ylim()[1] * 1.1)\n",
    "ax.set_xticklabels(ax.get_xticklabels(), ha='center', fontsize=_FS)\n",
    "ax.get_yaxis().set_tick_params(labelsize=_FS)\n",
    "\n",
    "\n",
    "\n",
    "# Add titles and labels for clarity\n",
    "# plt.title(\"Counts of Normal and Anomalous Labels per Dataset with Percentages\")\n",
    "plt.xlabel(\"Dataset\", fontsize=_FS)\n",
    "plt.ylabel(\"Count (in Millions)\", fontsize=_FS)\n",
    "plt.legend(title=\"Label\", fontsize=_FS, title_fontsize=_FS)\n",
    "\n",
    "# Display the plot\n",
    "plt.show()"
   ]
  },
  {
   "cell_type": "code",
   "execution_count": null,
   "id": "e0e90267",
   "metadata": {},
   "outputs": [],
   "source": []
  }
 ],
 "metadata": {
  "kernelspec": {
   "display_name": "Python 3",
   "language": "python",
   "name": "python3"
  },
  "language_info": {
   "codemirror_mode": {
    "name": "ipython",
    "version": 3
   },
   "file_extension": ".py",
   "mimetype": "text/x-python",
   "name": "python",
   "nbconvert_exporter": "python",
   "pygments_lexer": "ipython3",
   "version": "3.8.5"
  }
 },
 "nbformat": 4,
 "nbformat_minor": 5
}
